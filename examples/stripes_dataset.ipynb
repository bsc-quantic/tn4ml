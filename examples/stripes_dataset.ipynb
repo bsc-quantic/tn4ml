{
 "cells": [
  {
   "cell_type": "markdown",
   "metadata": {},
   "source": [
    "# Classification for Bars-Stripes dataset"
   ]
  },
  {
   "cell_type": "markdown",
   "metadata": {},
   "source": [
    "Follow tutorial from $\\rightarrow$ https://pennylane.ai/qml/demos/tutorial_tn_circuits/"
   ]
  },
  {
   "cell_type": "code",
   "execution_count": 4,
   "metadata": {},
   "outputs": [],
   "source": [
    "import matplotlib.pyplot as plt\n",
    "import numpy as np\n"
   ]
  },
  {
   "cell_type": "code",
   "execution_count": 14,
   "metadata": {},
   "outputs": [],
   "source": [
    "def generate_bars_and_stripes():\n",
    "    # Define patterns\n",
    "    patterns = [\n",
    "        (np.array([[0, 0], [0, 0]]), 0),  # All off\n",
    "        (np.array([[1, 1], [1, 1]]), 1),  # All on\n",
    "        (np.array([[1, 1], [0, 0]]), 2),  # Top bar on\n",
    "        (np.array([[0, 0], [1, 1]]), 2),  # Bottom bar on\n",
    "        (np.array([[1, 0], [1, 0]]), 3),  # Left stripe on\n",
    "        (np.array([[0, 1], [0, 1]]), 3),  # Right stripe on\n",
    "    ]\n",
    "    \n",
    "    return patterns\n",
    "\n",
    "def sample_bars_and_stripes(n_samples):\n",
    "    patterns = generate_bars_and_stripes()\n",
    "    # Randomly choose n_samples from the patterns\n",
    "    indices = np.random.choice(len(patterns), n_samples)\n",
    "    samples = [patterns[i] for i in indices]\n",
    "    return samples\n",
    "\n",
    "# Generate N samples\n",
    "N = 10  # For example, generate 10 samples\n",
    "samples = sample_bars_and_stripes(N)"
   ]
  },
  {
   "cell_type": "code",
   "execution_count": 13,
   "metadata": {},
   "outputs": [],
   "source": [
    "# for i, (pattern, label) in enumerate(samples):\n",
    "#     print(pattern)\n",
    "#     plt.imshow(pattern, cmap=\"gray\")\n",
    "#     plt.title(f\"Sample {i+1}, Label: {label}\")\n",
    "#     plt.xticks([])\n",
    "#     plt.yticks([])\n",
    "#     plt.show()"
   ]
  },
  {
   "cell_type": "code",
   "execution_count": null,
   "metadata": {},
   "outputs": [],
   "source": []
  }
 ],
 "metadata": {
  "kernelspec": {
   "display_name": "workspace",
   "language": "python",
   "name": "python3"
  },
  "language_info": {
   "codemirror_mode": {
    "name": "ipython",
    "version": 3
   },
   "file_extension": ".py",
   "mimetype": "text/x-python",
   "name": "python",
   "nbconvert_exporter": "python",
   "pygments_lexer": "ipython3",
   "version": "3.10.13"
  }
 },
 "nbformat": 4,
 "nbformat_minor": 2
}
